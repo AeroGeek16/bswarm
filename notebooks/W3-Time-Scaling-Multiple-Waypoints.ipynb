{
 "cells": [
  {
   "cell_type": "markdown",
   "metadata": {},
   "source": [
    "# Time Scaling and Multiple Waypoints"
   ]
  },
  {
   "cell_type": "markdown",
   "metadata": {},
   "source": [
    "Consider the  time scaling function:\n",
    "\n",
    "$\\beta_i(t) = (t - S_{i-1})/T_i$\n",
    "\n",
    "where:\n",
    "\n",
    "* $T_i$ is the time duraction for the $i^{th}$ trajectory leg.\n",
    "* $S_i$ is the time elapsed when the $i^{th}$ trajectory leg starts.\n",
    "* $t$ is the elapsed time in seconds\n",
    "\n",
    "\n",
    "This function is constructed so that:\n",
    "\n",
    "* $\\beta_i(S_{i-1}) = 0$\n",
    "\n",
    "* $\\beta_i(S_{i}) = 1$\n",
    "\n",
    "\n",
    "This effectively scales time time so that the total duration for the segment is $T_i$.\n",
    "\n",
    "Considering time scaling, we can construct trajectories using polynomial between waypoints as follows:\n",
    "\n",
    "$p_i(\\beta_i) = c_0 + c_1 \\beta_i + c_2 \\beta_i^2 + \\ldots$\n",
    "\n",
    "$p_i(\\beta_i) = \\sum \\limits_{k=0}^{n} c_k \\beta_i^k$\n",
    "\n",
    "We will also need the derivatives of $p(\\beta_i)$.\n",
    "\n",
    "$p_i'(\\beta_i) = \\dfrac{dp}{d\\beta_i} \\dfrac{d\\beta_i}{dt} = \\sum \\limits_{k=1}^{n} c_k \\dfrac{k \\beta_i^{(k - 1)}}{T}$\n",
    "\n",
    "$p_i''(\\beta_i) = \\sum \\limits_{k=2}^{n} c_k \\dfrac{k (k-1) \\beta_i^{(k - 2)}}{T^2}$\n",
    "\n",
    "$p_i'''(\\beta_i) = \\sum \\limits_{k=3}^{n} c_k \\dfrac{k (k-1) (k-2) \\beta_i^{(k - 3)}}{T^3}$\n",
    "\n",
    "Notice there is a pattern for the $m^{th}$ derivative:\n",
    "\n",
    "$p_i^{(m)}(\\beta_i) = \\sum \\limits_{k=m}^{n} c_k \\dfrac{k! \\beta_i^{(k - m)}}{(k - m)! T^m}$\n"
   ]
  },
  {
   "cell_type": "code",
   "execution_count": 1,
   "metadata": {},
   "outputs": [],
   "source": [
    "import numpy as np\n",
    "import matplotlib.pyplot as plt\n",
    "%matplotlib inline\n",
    "\n",
    "def time_scaling(t, t0, T):\n",
    "    \"\"\"\n",
    "    @param t: elapsed time\n",
    "    @param t0: initial time for start of leg\n",
    "    @param T: duration for leg\n",
    "    \"\"\"\n",
    "    return (t - t0)/T\n",
    "    \n",
    "def trajectory_coefficients(beta, m, n, T):\n",
    "    \"\"\"\n",
    "    @param beta: scaled time\n",
    "    @param m: derivative order, 0, for no derivative\n",
    "    @param n: number of coeff in polynomial (order + 1)\n",
    "    @param T: period\n",
    "    \"\"\"\n",
    "    p = np.zeros(n)\n",
    "    for k in range(m, n):\n",
    "        p[n - k - 1] = (np.math.factorial(k)*beta**(k-m))/((np.math.factorial(k-m))*T**m)\n",
    "    return p"
   ]
  },
  {
   "cell_type": "markdown",
   "metadata": {},
   "source": [
    "# Example\n",
    "\n",
    "You wish to create a reference trajectory that meets the following 8 constraints. Since there are 8 coefficients and the constraints are linear, you expect one solution.\n",
    "\n",
    "* 1: $x(0) = 0 \\rightarrow p_0(0) = 0$\n",
    "* 2: $x'(0) = 0 \\rightarrow p_0'(0) = 0$\n",
    "* 3: $x''(0) = 0 \\rightarrow p_0''(0) = 0$\n",
    "* 4/5: $x(1) = 1 \\rightarrow p_0(1) = 1, p_1(0) = 1$\n",
    "* 6: The velocity is continuous at t=1, between the two polynomial segments $ p_0'(1) = p_1'(0)$\n",
    "* 7: $x(2) = 0 \\rightarrow p_1(1) = 0$\n",
    "* 8: $x'(2) = 0 \\rightarrow p_1'(1) = 0$\n"
   ]
  },
  {
   "cell_type": "code",
   "execution_count": 2,
   "metadata": {},
   "outputs": [],
   "source": [
    "def find_trajectory(x_list, v_list, T, plot=False):\n",
    "    n = 4 # this will be fixed to support 3rd order polynomials\n",
    "    if not len(x_list) == len(T) + 1:\n",
    "        raise ValueError('x_list must be 1 longer than T')\n",
    "    if not len(x_list) == len(v_list):\n",
    "        raise ValueError('x_list and v_list must be same length')\n",
    "\n",
    "    S = np.hstack([[0], np.cumsum(T)])\n",
    "    n_legs = len(T)\n",
    "    n_coeff = n_legs*n\n",
    "    A = np.zeros((n_coeff, n_coeff))\n",
    "    b = np.zeros(n_coeff)\n",
    "\n",
    "    eq_num = 0\n",
    "    for i in range(n_legs):        \n",
    "        # p1(0) = x[0]\n",
    "        A[eq_num, n*i:n*(i+1)] = trajectory_coefficients(beta=0, m=0, n=n, T=T[i])\n",
    "        b[eq_num] = x_list[i]\n",
    "        eq_num += 1\n",
    "    \n",
    "        # p1'(0) = v[0]\n",
    "        A[eq_num, n*i:n*(i+1)] = trajectory_coefficients(beta=0, m=1, n=n, T=T[i])\n",
    "        b[eq_num] = v_list[i]\n",
    "        eq_num += 1\n",
    "    \n",
    "        # p1(1) = x[1]\n",
    "        A[eq_num, n*i:n*(i+1)] = trajectory_coefficients(beta=1, m=0, n=n, T=T[i])\n",
    "        b[eq_num] = x_list[i + 1]\n",
    "        eq_num += 1\n",
    "    \n",
    "        # p1'(1) = v[1]\n",
    "        A[eq_num, n*i:n*(i+1)] = trajectory_coefficients(beta=1, m=1, n=n, T=T[i])\n",
    "        b[eq_num] = v_list[i + 1]\n",
    "        eq_num += 1\n",
    "\n",
    "    rank = np.linalg.matrix_rank(A)\n",
    "    if rank < n_coeff:\n",
    "        print('Matrix A not full rank, check constraints, rank: ', rank, '/', n_coeff)\n",
    "        c = np.linalg.pinv(A).dot(b)\n",
    "    else:\n",
    "        c = np.linalg.inv(A).dot(b)\n",
    "    \n",
    "    t = []\n",
    "    x = []\n",
    "    for i in range(0, len(T)):\n",
    "        ti = np.linspace(S[i], S[i+1])\n",
    "        beta = time_scaling(ti, S[i], T[i])\n",
    "        xi = np.polyval(c[n*i:n*(i+1)], beta)\n",
    "        t.append(ti)\n",
    "        x.append(xi)\n",
    "    x = np.hstack(x)\n",
    "    t = np.hstack(t)\n",
    "    return locals()\n",
    "\n",
    "traj_data = find_trajectory(x_list=[1, 0, 1], v_list = [1, -1, 0], T=[1, 1], plot=False)"
   ]
  },
  {
   "cell_type": "markdown",
   "metadata": {},
   "source": [
    "You now have the form:\n",
    "\n",
    "$A c = b$\n",
    "\n",
    "where:\n",
    "\n",
    "* c are the coefficients\n",
    "* b is your constraint vector\n",
    "* A is your coefficient weighting matrix\n",
    "\n",
    "You can solve this using the matrix inverse:\n",
    "    \n",
    "$c = A^{-1} b$"
   ]
  },
  {
   "cell_type": "markdown",
   "metadata": {},
   "source": [
    "## 2D Trajectory Planning\n",
    "\n",
    "Due to differential flatness, we may decouple the trajectory planning."
   ]
  },
  {
   "cell_type": "code",
   "execution_count": 3,
   "metadata": {},
   "outputs": [
    {
     "data": {
      "image/png": "[encoded data removed]",
      "text/plain": [
       "<Figure size 432x288 with 1 Axes>"
      ]
     },
     "metadata": {
      "needs_background": "light"
     },
     "output_type": "display_data"
    }
   ],
   "source": [
    "T = [0.5, 0.5, 0.5, 0.5]\n",
    "waypoints = np.array([\n",
    "    # px, py, vx, vy\n",
    "    [0, 0, 1, -1],\n",
    "    [1, 0, 1, 1],\n",
    "    [1, 1, -1, 1],\n",
    "    [0, 1, -1, -1],\n",
    "    [0, 0, 1, -1]\n",
    "])\n",
    "\n",
    "trajx = find_trajectory(x_list=waypoints[:, 0], v_list=waypoints[:, 2], T=T, plot=True)\n",
    "trajy = find_trajectory(x_list=waypoints[:, 1], v_list=waypoints[:, 3], T=T, plot=True)\n",
    "plt.plot(waypoints[:, 0], waypoints[:, 1], 'rx')\n",
    "plt.plot(trajx['x'], trajy['x'])\n",
    "plt.axis('equal')\n",
    "plt.grid()"
   ]
  },
  {
   "cell_type": "markdown",
   "metadata": {},
   "source": [
    "These trajectory matrices and time scaling can be used for control of the crazyflie."
   ]
  },
  {
   "cell_type": "code",
   "execution_count": 4,
   "metadata": {},
   "outputs": [
    {
     "data": {
      "text/plain": [
       "(array([-1.00000000e+00,  1.50000000e+00,  5.00000000e-01,  0.00000000e+00,\n",
       "         0.00000000e+00, -5.00000000e-01,  5.00000000e-01,  1.00000000e+00,\n",
       "         1.00000000e+00, -1.50000000e+00, -5.00000000e-01,  1.00000000e+00,\n",
       "        -1.11022302e-16,  5.00000000e-01, -5.00000000e-01,  0.00000000e+00]),\n",
       " array([-1.11022302e-16,  5.00000000e-01, -5.00000000e-01,  0.00000000e+00,\n",
       "        -1.00000000e+00,  1.50000000e+00,  5.00000000e-01,  0.00000000e+00,\n",
       "         0.00000000e+00, -5.00000000e-01,  5.00000000e-01,  1.00000000e+00,\n",
       "         1.00000000e+00, -1.50000000e+00, -5.00000000e-01,  1.00000000e+00]))"
      ]
     },
     "execution_count": 4,
     "metadata": {},
     "output_type": "execute_result"
    }
   ],
   "source": [
    "trajx['c'], trajy['c']"
   ]
  }
 ],
 "metadata": {
  "kernelspec": {
   "display_name": "Python 3",
   "language": "python",
   "name": "python3"
  },
  "language_info": {
   "codemirror_mode": {
    "name": "ipython",
    "version": 3
   },
   "file_extension": ".py",
   "mimetype": "text/x-python",
   "name": "python",
   "nbconvert_exporter": "python",
   "pygments_lexer": "ipython3",
   "version": "3.7.3"
  }
 },
 "nbformat": 4,
 "nbformat_minor": 2
}
